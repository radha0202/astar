{
 "cells": [
  {
   "cell_type": "code",
   "execution_count": 1,
   "id": "4efc83cf",
   "metadata": {},
   "outputs": [
    {
     "name": "stdout",
     "output_type": "stream",
     "text": [
      "['B', 'D', 'G', 'F']\n"
     ]
    }
   ],
   "source": [
    "import heapq\n",
    "\n",
    "def a_star(graph, start, goal, heuristic):\n",
    "    open_set = []\n",
    "    heapq.heappush(open_set, (0, start))\n",
    "    came_from = {}\n",
    "    g_score = {node: float('inf') for node in graph}\n",
    "    g_score[start] = 0\n",
    "    f_score = {node: float('inf') for node in graph}\n",
    "    f_score[start] = heuristic[start]\n",
    "\n",
    "    while open_set:\n",
    "        current = heapq.heappop(open_set)[1]\n",
    "\n",
    "        if current == goal:\n",
    "            path = []\n",
    "            while current in came_from:\n",
    "                path.append(current)\n",
    "                current = came_from[current]\n",
    "            return path[::-1]\n",
    "\n",
    "        for neighbor, cost in graph[current].items():\n",
    "            tentative_g_score = g_score[current] + cost\n",
    "            if tentative_g_score < g_score[neighbor]:\n",
    "                came_from[neighbor] = current\n",
    "                g_score[neighbor] = tentative_g_score\n",
    "                f_score[neighbor] = tentative_g_score + heuristic[neighbor]\n",
    "                if neighbor not in [i[1] for i in open_set]:\n",
    "                    heapq.heappush(open_set, (f_score[neighbor], neighbor))\n",
    "\n",
    "    return None\n",
    "\n",
    "graph = {\n",
    "    'A': {'B': 1, 'C': 4},\n",
    "    'B': {'A': 1, 'D': 2, 'E': 5},\n",
    "    'C': {'A': 4, 'F': 3},\n",
    "    'D': {'B': 2, 'G': 1},\n",
    "    'E': {'B': 5, 'F': 1},\n",
    "    'F': {'C': 3, 'E': 1, 'G': 2},\n",
    "    'G': {'D': 1, 'F': 2}\n",
    "}\n",
    "\n",
    "heuristic = {\n",
    "    'A': 7,\n",
    "    'B': 6,\n",
    "    'C': 2,\n",
    "    'D': 1,\n",
    "    'E': 3,\n",
    "    'F': 0,\n",
    "    'G': 0\n",
    "}\n",
    "\n",
    "path = a_star(graph, 'A', 'F', heuristic)\n",
    "print(path)"
   ]
  },
  {
   "cell_type": "code",
   "execution_count": null,
   "id": "75672931",
   "metadata": {},
   "outputs": [],
   "source": []
  }
 ],
 "metadata": {
  "kernelspec": {
   "display_name": "Python 3 (ipykernel)",
   "language": "python",
   "name": "python3"
  },
  "language_info": {
   "codemirror_mode": {
    "name": "ipython",
    "version": 3
   },
   "file_extension": ".py",
   "mimetype": "text/x-python",
   "name": "python",
   "nbconvert_exporter": "python",
   "pygments_lexer": "ipython3",
   "version": "3.9.12"
  }
 },
 "nbformat": 4,
 "nbformat_minor": 5
}
